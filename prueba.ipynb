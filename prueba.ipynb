{
 "cells": [
  {
   "cell_type": "code",
   "execution_count": 3,
   "metadata": {},
   "outputs": [],
   "source": [
    "import pandas as pd\n",
    "import numpy as np\n",
    "import matplotlib as mpl\n",
    "import matplotlib.pyplot as plt\n",
    "import seaborn as sns\n",
    "# Importo libreria para trabajar con dates \n",
    "from datetime import timedelta\n",
    "# Libreria para estimar regresión\n",
    "import statsmodels.formula.api as sm\n",
    "# Libreria para normalizar\n",
    "from sklearn.preprocessing import StandardScaler"
   ]
  },
  {
   "cell_type": "code",
   "execution_count": 7,
   "metadata": {},
   "outputs": [],
   "source": [
    "df = pd.read_excel('ClientesAnulados.xlsx', sheet_name='Agenda Clientes')"
   ]
  },
  {
   "cell_type": "code",
   "execution_count": 11,
   "metadata": {},
   "outputs": [],
   "source": [
    "df2 = pd.read_excel('Agenda_Clientes_Sexo_Verificado.xlsx', sheet_name='Sheet1')"
   ]
  },
  {
   "cell_type": "code",
   "execution_count": 13,
   "metadata": {},
   "outputs": [],
   "source": [
    "df3 = pd.read_excel('VIGENTES.xlsx', sheet_name='Sheet1')"
   ]
  },
  {
   "cell_type": "code",
   "execution_count": 12,
   "metadata": {},
   "outputs": [
    {
     "name": "stdout",
     "output_type": "stream",
     "text": [
      "<class 'pandas.core.frame.DataFrame'>\n",
      "RangeIndex: 2415 entries, 0 to 2414\n",
      "Data columns (total 11 columns):\n",
      " #   Column            Non-Null Count  Dtype  \n",
      "---  ------            --------------  -----  \n",
      " 0   Tipo Persona      2415 non-null   object \n",
      " 1   Nombre            2415 non-null   object \n",
      " 2   Sexo              2415 non-null   object \n",
      " 3   DNI               1997 non-null   float64\n",
      " 4   Otros Documentos  13 non-null     object \n",
      " 5   Nacimiento        1863 non-null   object \n",
      " 6   Direcciones       2411 non-null   object \n",
      " 7   Telefonos         2104 non-null   object \n",
      " 8   Mails             2149 non-null   object \n",
      " 9   Ramos             2415 non-null   object \n",
      " 10  id                2415 non-null   object \n",
      "dtypes: float64(1), object(10)\n",
      "memory usage: 207.7+ KB\n",
      "None\n"
     ]
    }
   ],
   "source": [
    "print(df2.info())"
   ]
  },
  {
   "cell_type": "code",
   "execution_count": 16,
   "metadata": {},
   "outputs": [],
   "source": [
    "df_prueba = pd.read_excel('Agenda_Clientes_Sexo_Verificado.xlsx')"
   ]
  },
  {
   "cell_type": "code",
   "execution_count": 19,
   "metadata": {},
   "outputs": [],
   "source": [
    "df2 = pd.DataFrame(df_prueba[['Nombre', 'Sexo', 'Nacimiento', 'Telefonos', 'Direcciones', 'Mails', 'Ramos']])"
   ]
  },
  {
   "cell_type": "code",
   "execution_count": 20,
   "metadata": {},
   "outputs": [
    {
     "name": "stdout",
     "output_type": "stream",
     "text": [
      "Sexo\n",
      "Masculino       1253\n",
      "Femenino         631\n",
      "Desconocido      503\n",
      "Razon social      28\n",
      "Name: count, dtype: int64\n"
     ]
    }
   ],
   "source": [
    "# Contar la cantidad de clientes por cada valor en la columna 'Sexo'\n",
    "conteo_sexo = df_prueba['Sexo'].value_counts()\n",
    "\n",
    "# Mostrar el resultado\n",
    "print(conteo_sexo)\n"
   ]
  },
  {
   "cell_type": "code",
   "execution_count": 21,
   "metadata": {},
   "outputs": [
    {
     "name": "stdout",
     "output_type": "stream",
     "text": [
      "Grupo Edad\n",
      "31-40    468\n",
      "41-50    466\n",
      "61+      323\n",
      "51-60    313\n",
      "15-30    212\n",
      "Name: count, dtype: int64\n"
     ]
    },
    {
     "name": "stderr",
     "output_type": "stream",
     "text": [
      "C:\\Users\\Fernando\\AppData\\Local\\Temp\\ipykernel_21012\\1719552692.py:4: UserWarning: Parsing dates in %d/%m/%Y format when dayfirst=False (the default) was specified. Pass `dayfirst=True` or specify a format to silence this warning.\n",
      "  df_prueba['Nacimiento'] = pd.to_datetime(df_prueba['Nacimiento'], errors='coerce')\n"
     ]
    }
   ],
   "source": [
    "import pandas as pd\n",
    "\n",
    "# Asegurarte de que la columna 'Nacimiento' esté en formato de fecha\n",
    "df_prueba['Nacimiento'] = pd.to_datetime(df_prueba['Nacimiento'], errors='coerce')\n",
    "\n",
    "# Calcular la edad en base a la fecha de nacimiento\n",
    "df_prueba['Edad'] = (pd.Timestamp.now() - df_prueba['Nacimiento']).dt.days // 365\n",
    "\n",
    "# Definir los límites de los intervalos de edad\n",
    "bins = [15, 30, 40, 50, 60, 100]  # Ajusta el 100 si quieres otro límite superior\n",
    "labels = ['15-30', '31-40', '41-50', '51-60', '61+']\n",
    "\n",
    "# Crear la columna que agrupa las edades por intervalos\n",
    "df_prueba['Grupo Edad'] = pd.cut(df_prueba['Edad'], bins=bins, labels=labels, right=True)\n",
    "\n",
    "# Mostrar el número de clientes por cada grupo de edad\n",
    "conteo_grupo_edad = df_prueba['Grupo Edad'].value_counts()\n",
    "\n",
    "# Mostrar el resultado\n",
    "print(conteo_grupo_edad)\n"
   ]
  },
  {
   "cell_type": "code",
   "execution_count": 22,
   "metadata": {},
   "outputs": [
    {
     "name": "stdout",
     "output_type": "stream",
     "text": [
      "Grupo Edad\n",
      "31-40    26.262626\n",
      "41-50    26.150393\n",
      "61+      18.125701\n",
      "51-60    17.564534\n",
      "15-30    11.896745\n",
      "Name: proportion, dtype: float64\n"
     ]
    }
   ],
   "source": [
    "# Calcular los porcentajes por cada grupo de edad\n",
    "porcentaje_grupo_edad = df_prueba['Grupo Edad'].value_counts(normalize=True) * 100\n",
    "\n",
    "# Mostrar el resultado en porcentajes\n",
    "print(porcentaje_grupo_edad)\n"
   ]
  },
  {
   "cell_type": "code",
   "execution_count": 23,
   "metadata": {},
   "outputs": [
    {
     "name": "stdout",
     "output_type": "stream",
     "text": [
      "Masculino    66.507431\n",
      "Femenino     33.492569\n",
      "dtype: float64\n"
     ]
    }
   ],
   "source": [
    "# Resultado del conteo que tienes, guardado en una variable (simulación)\n",
    "conteo_sexo = pd.Series({\n",
    "    'Masculino': 1253,\n",
    "    'Femenino': 631,\n",
    "    'Desconocido': 503,\n",
    "    'Razon social': 28\n",
    "})\n",
    "\n",
    "# Filtrar los valores que no quieres (Desconocido y Razon social)\n",
    "conteo_filtrado = conteo_sexo.drop(['Desconocido', 'Razon social'])\n",
    "\n",
    "# Convertir el conteo a porcentaje\n",
    "porcentaje_sexo = (conteo_filtrado / conteo_filtrado.sum()) * 100\n",
    "\n",
    "# Mostrar el resultado\n",
    "print(porcentaje_sexo)\n"
   ]
  },
  {
   "cell_type": "code",
   "execution_count": 25,
   "metadata": {},
   "outputs": [
    {
     "name": "stdout",
     "output_type": "stream",
     "text": [
      "       Masculino  Femenino\n",
      "31-40      26.26     20.26\n",
      "41-50      26.15     25.15\n",
      "61+        18.12     20.12\n",
      "51-60      17.56     15.56\n",
      "15-30      11.89     18.89\n"
     ]
    }
   ],
   "source": [
    "import pandas as pd\n",
    "\n",
    "# Datos de proporción por edad y sexo\n",
    "# Suposición de cómo se distribuyen los datos entre los sexos para cada grupo de edad\n",
    "\n",
    "data = {\n",
    "    'Masculino': [26.26, 26.15, 18.12, 17.56, 11.89],  # Porcentajes por grupo de edad\n",
    "    'Femenino': [20.26, 25.15, 20.12, 15.56, 18.89]    # Ejemplo de porcentajes por grupo de edad\n",
    "}\n",
    "\n",
    "# Index para los grupos de edad\n",
    "index = ['31-40', '41-50', '61+', '51-60', '15-30']\n",
    "\n",
    "# Crear el DataFrame con los datos\n",
    "df_resultado = pd.DataFrame(data, index=index)\n",
    "\n",
    "# Mostrar el resultado\n",
    "print(df_resultado)\n"
   ]
  },
  {
   "cell_type": "code",
   "execution_count": 26,
   "metadata": {},
   "outputs": [
    {
     "name": "stdout",
     "output_type": "stream",
     "text": [
      "0       Accidentes Personales / Automotores / Seguro d...\n",
      "1       Accidentes Personales / Automotores / Seguro d...\n",
      "2                    Combinado Familiar / Vida individual\n",
      "3          Automotores / Riesgos Varios / Vida individual\n",
      "4       Accidentes Personales / Automotores / Vida ind...\n",
      "                              ...                        \n",
      "2410                                        Motovehículos\n",
      "2411                        Automotores / Vida individual\n",
      "2412                        Automotores / Vida individual\n",
      "2413                        Automotores / Vida individual\n",
      "2414                        Automotores / Vida individual\n",
      "Name: Ramos, Length: 2415, dtype: object\n"
     ]
    }
   ],
   "source": [
    "# Ver el contenido de la columna 'Ramos'\n",
    "print(df['Ramos'])\n"
   ]
  },
  {
   "cell_type": "code",
   "execution_count": 27,
   "metadata": {},
   "outputs": [
    {
     "name": "stdout",
     "output_type": "stream",
     "text": [
      "Automotores                                        2121\n",
      "Vida individual                                    1649\n",
      "Accidentes Personales                              1302\n",
      "Motovehículos                                       145\n",
      "Seguro de Salud                                      93\n",
      "Combinado Familiar                                   86\n",
      "Responsabilidad Civil                                59\n",
      "Incendio                                             53\n",
      "ART                                                  26\n",
      "Riesgos Varios                                       25\n",
      "Robo y Riesgos Similares                             25\n",
      "Vida Obligatorio (Decreto 1567/74)                   16\n",
      "Caución                                               9\n",
      "Integral de comercio                                  7\n",
      "Accidentes a Pasajeros                                6\n",
      "Cascos y Maquinarias del Buque                        2\n",
      "Técnico                                               2\n",
      "Combinados e Integrales                               2\n",
      "Transportes                                           1\n",
      "Integral de consorcio                                 1\n",
      "Vida – Sin constitución de reservas Matemáticas       1\n",
      "Name: count, dtype: int64\n"
     ]
    }
   ],
   "source": [
    "import pandas as pd\n",
    "\n",
    "# Suponiendo que tienes el DataFrame llamado df\n",
    "# Separar las palabras de la columna 'Ramos'\n",
    "ramos_separados = df['Ramos'].str.split(' / ')\n",
    "\n",
    "# Crear una lista que contenga todas las palabras separadas\n",
    "todas_palabras = []\n",
    "for sublist in ramos_separados:\n",
    "    todas_palabras.extend(sublist)\n",
    "\n",
    "# Contar la cantidad de veces que aparece cada palabra\n",
    "conteo_palabras = pd.Series(todas_palabras).value_counts()\n",
    "\n",
    "# Mostrar el resultado\n",
    "print(conteo_palabras)\n"
   ]
  },
  {
   "cell_type": "code",
   "execution_count": 28,
   "metadata": {},
   "outputs": [
    {
     "name": "stdout",
     "output_type": "stream",
     "text": [
      "     Tipo Persona                             Nombre          Sexo  \\\n",
      "39         fisica                        Holtz Jesus     Masculino   \n",
      "189        fisica                  Hein Teresa Noemi      Femenino   \n",
      "448      juridica     Ffh Asesores De Seguros S.R.L.   Desconocido   \n",
      "472        fisica                 Sanchez Maria Rosa      Femenino   \n",
      "483        fisica               Esteban Gaspar Angel     Masculino   \n",
      "1065       fisica                  Juan Jose Juricka     Masculino   \n",
      "1893     juridica  Lab Net Bioquimica Acreditada Srl  Razon social   \n",
      "\n",
      "             DNI Otros Documentos  Nacimiento  \\\n",
      "39    32861336.0              NaN  09/05/1987   \n",
      "189   16546482.0              NaN  20/09/1963   \n",
      "448          NaN              NaN  24/02/2016   \n",
      "472   16750626.0              NaN  27/05/1962   \n",
      "483   10471051.0              NaN  18/09/1952   \n",
      "1065  17162598.0              NaN  31/10/1964   \n",
      "1893         NaN              NaN  18/08/2023   \n",
      "\n",
      "                                            Direcciones  \\\n",
      "39    MSTRO D'ELIA 25 PISO 2 DTO C, Buenos Aires, Ba...   \n",
      "189   LIMA 1050 PISO 2 DTO B, Buenos Aires, Acassuso...   \n",
      "448   MAESTRO ANGEL D'ELIA 768, Buenos Aires, Barrio...   \n",
      "472   MSTRO EDUARDO FERREYRA 3310, Buenos Aires, Bar...   \n",
      "483   DR JUAN JOSE PASO 959, Buenos Aires, Barrio Ba...   \n",
      "1065  MOYANO                                        ...   \n",
      "1893  LORENZO LOPEZ 497 CENTRO, Buenos Aires, Pilar,...   \n",
      "\n",
      "                                 Telefonos  \\\n",
      "39                  Celular: 011-4415-6468   \n",
      "189              Celular: 011-15-5247-8658   \n",
      "448                 Celular: 011-4664-7465   \n",
      "472                 Celular: 011-5292-3872   \n",
      "483                 Celular: 011-6228-3040   \n",
      "1065  Telefono Particular: (54)2944-249638   \n",
      "1893                                   NaN   \n",
      "\n",
      "                                      Mails  \\\n",
      "39       Particular SANDRAVERAC@HOTMAIL.COM   \n",
      "189          Particular terevet@hotmail.com   \n",
      "448      Particular fernando@ffhseguros.com   \n",
      "472   Particular OPERACIONES@FFHSEGUROS.COM   \n",
      "483           Particular SGPAVONI@GMAIL.COM   \n",
      "1065      E-Mail victoria.juricka@gmail.com   \n",
      "1893                                    NaN   \n",
      "\n",
      "                                                  Ramos         id  \n",
      "39    Accidentes Personales / Automotores / Vida Obl...  P17264371  \n",
      "189   Automotores / Combinado Familiar / Integral de...  P17264677  \n",
      "448   ART / Responsabilidad Civil / Integral de come...  P17265354  \n",
      "472   Accidentes Personales / Automotores / Integral...  P17265417  \n",
      "483   Accidentes Personales / Automotores / Integral...  P17265440  \n",
      "1065  Automotores / Integral de comercio / Vida indi...  P17266784  \n",
      "1893                               Integral de comercio  P17281947  \n"
     ]
    }
   ],
   "source": [
    "# Filtrar las filas que contienen 'Integral de comercio' en la columna 'Ramos'\n",
    "filas_integral_comercio = df[df['Ramos'].str.contains('Integral de comercio', na=False)]\n",
    "\n",
    "# Mostrar las filas donde aparece 'Integral de comercio'\n",
    "print(filas_integral_comercio)\n"
   ]
  },
  {
   "cell_type": "code",
   "execution_count": 31,
   "metadata": {},
   "outputs": [
    {
     "name": "stdout",
     "output_type": "stream",
     "text": [
      "2                    Maria Patricia Steinbach\n",
      "7                 Goncalves Francisco Augusto\n",
      "11                        Hein Cristina Elena\n",
      "27                       Palma Matias Nicolas\n",
      "50                        Babiuk Luis Esteban\n",
      "54                       Julieta Noemi Flores\n",
      "55                      Pablo Sebastian Sager\n",
      "56                          Macri Silvia Ines\n",
      "62                   Fernandez Carlos Alberto\n",
      "69                            Milanese Gaston\n",
      "95                           Campos Rodolfo E\n",
      "100                   Cirger Alejandro Daniel\n",
      "123              Albertinsky Sebastian Javier\n",
      "131                   Friedrich Jorge Alberto\n",
      "136                Silvestre Martin Sebastian\n",
      "142                 Vadillo Luis Horacio Raul\n",
      "148                        Zardin Mirta Mabel\n",
      "157                       Suarez Lucas Gaton.\n",
      "185                    Orquera Sergio Antonio\n",
      "189                         Hein Teresa Noemi\n",
      "231                  Rabella Vicino Jose Luis\n",
      "238                        Walter Ariel Gatto\n",
      "245                      Riofrio Gisela Belen\n",
      "260              Flores Hein Guillermo Hernan\n",
      "266                      Medi Cogo Juan Pedro\n",
      "271                            Janezic Andres\n",
      "276                  Rodriguez Sergio Gustavo\n",
      "281                            Garozzo Roxana\n",
      "309                  Tominich Marcelo Orlando\n",
      "311                           Griffa Leonardo\n",
      "316                    Suchmans Silvia Monica\n",
      "339                          Biasca Luz Maria\n",
      "340                      Cela Adriana Claudia\n",
      "346                      Rodriguez Jorge Jose\n",
      "348                       Sicca Jorge Armando\n",
      "366                   Pereira Mariano Alberto\n",
      "384             Bertino Primiterra Diego Ivan\n",
      "397                  Pilorget Natalia Soledad\n",
      "401                         Diz Romina Vanesa\n",
      "412                             Soler Claudio\n",
      "419            Matta Alfredo Dalberto Enrique\n",
      "421     Iglesia Evangelica Luterana Argentina\n",
      "440                    Sandra Claudia Olivero\n",
      "456                   Bejarano Hector Gabriel\n",
      "457             Fernandez Suarez Emanuel Jose\n",
      "458     Sebastian Ferri Y Andrea Natalia Ruiz\n",
      "459                       Pedrosa Luis Carlos\n",
      "464                 Albertinsky Marcelo Ariel\n",
      "468                 Llamedo Nelida Del Carmen\n",
      "471                     Triulzi Edgardo Jorge\n",
      "476                       Rossi Norma Viviana\n",
      "545                   Riofrio Mariano Gabriel\n",
      "569                   Valeria Beatriz Gentile\n",
      "575                     Rubinich Pablo Damian\n",
      "738                   Cousido Valeria Soledad\n",
      "755                         Paris Maria Ester\n",
      "766                 Santieusanio Moira Susana\n",
      "771                     Cristaldo Maria Elena\n",
      "842                      Torrez Lucas Marcelo\n",
      "944                          Bejarano Zuleica\n",
      "1000                    Areco Maria Constanza\n",
      "1071                     Garita Angeles Belen\n",
      "1104                        Tomasello Facundo\n",
      "1131                      Vidal Jorge Horacio\n",
      "1137                   Castaño Daniela Andrea\n",
      "1139                       Gomes Armando Abel\n",
      "1172                Karabetian Patricia Marta\n",
      "1180                Horacek Barbara Guadalupe\n",
      "1274                     Falco Marta Cristina\n",
      "1297                   Diz Maximiliano Javier\n",
      "1298                 Lopez Duarte Luis Javier\n",
      "1305                   Shinzato Rodrigo Ariel\n",
      "1312              Coss Sanchez Mirne Griselda\n",
      "1318                             Acosta Ester\n",
      "1322                         Ls Protec S.R.L.\n",
      "1385                   Barbieri Damian Matias\n",
      "1535                     Luque Micaela Magali\n",
      "1556                   Abagnale Daniel Anibal\n",
      "1659                 Herrero Ildefonso Miguel\n",
      "1665                             Buono Nelida\n",
      "1666                    Garcia Giselle Romina\n",
      "1667                        Bernachea Fermina\n",
      "1669                    Briasco Sergio Carlos\n",
      "1708             Avila Sanchez Sabrina Lorena\n",
      "1750                    Gimenez Daniela Ester\n",
      "1845                 Colombano Emiliano Guido\n",
      "Name: Nombre, dtype: object\n"
     ]
    }
   ],
   "source": [
    "# Filtrar las filas que contienen 'Combinado Familiar' en la columna 'Ramos' y mostrar solo la columna 'Nombre'\n",
    "filas_combinado_familiar_nombres = df[df['Ramos'].str.contains('Combinado Familiar', na=False)]['Nombre']\n",
    "\n",
    "# Mostrar todas las 86 filas completas sin truncar\n",
    "pd.set_option('display.max_rows', None)  # Configura pandas para mostrar todas las filas sin truncar\n",
    "print(filas_combinado_familiar_nombres)\n"
   ]
  },
  {
   "cell_type": "code",
   "execution_count": 34,
   "metadata": {},
   "outputs": [],
   "source": [
    "df = pd.read_excel('Polizas.xlsx', sheet_name='Polizas')"
   ]
  },
  {
   "cell_type": "code",
   "execution_count": 35,
   "metadata": {},
   "outputs": [
    {
     "name": "stdout",
     "output_type": "stream",
     "text": [
      "    Numero      Estado Id referencia                          Tomador/es  \\\n",
      "0  1841748  renovacion     P61675992  Estacion Ruta 8 Y Panamericana Srl   \n",
      "1  1842766  renovacion     P61675993                       Stauber Maria   \n",
      "2  1842767  renovacion     P61675994                       Stauber Maria   \n",
      "3  1842827  renovacion     P61675995             Zmiack Alejandro Javier   \n",
      "4  1843176  renovacion     P61675996                       Stauber Maria   \n",
      "\n",
      "                          Asegurado/s             Compañia      Ramo  \\\n",
      "0  Estacion Ruta 8 Y Panamericana Srl  FEDERACION PATRONAL  Incendio   \n",
      "1                       Stauber Maria  FEDERACION PATRONAL  Incendio   \n",
      "2                       Stauber Maria  FEDERACION PATRONAL  Incendio   \n",
      "3             Zmiack Alejandro Javier  FEDERACION PATRONAL  Incendio   \n",
      "4                       Stauber Maria  FEDERACION PATRONAL  Incendio   \n",
      "\n",
      "  Linea de Negocio                              Bien asegurado Moneda  ...  \\\n",
      "0              P&C           RUTA 8 KM 57.200 N* s/n - CP:  -       $  ...   \n",
      "1              P&C  MAESTRO DELIA  N* 1780 P 1 DTO 1 - CP:  -       $  ...   \n",
      "2              P&C         MAESTRO DELIA N* 1780 P 2 - CP:  -       $  ...   \n",
      "3              P&C                    ZUVIRIA N* 955 - CP:  -       $  ...   \n",
      "4              P&C    MAESTRO DELIA N* 780 P 1 DTO 2 - CP:  -       $  ...   \n",
      "\n",
      "   Cl. Ajuste  Fecha emision  Vigencia desde  Vigencia Hasta  \\\n",
      "0         NaN     2023-09-07      2023-09-15      2024-09-15   \n",
      "1        20.0     2023-09-11      2023-09-16      2024-09-16   \n",
      "2        20.0     2023-09-11      2023-09-16      2024-09-16   \n",
      "3        20.0     2023-09-11      2023-09-16      2024-09-16   \n",
      "4        20.0     2023-09-12      2023-09-17      2024-09-17   \n",
      "\n",
      "   Tipo de renovacion   Renovo a  Tipo de refacturacion Codigo  \\\n",
      "0              Manual  1720822.0                    NaN  26357   \n",
      "1              Manual  1720029.0                    NaN  26357   \n",
      "2              Manual  1720030.0                    NaN  26357   \n",
      "3              Manual  1722700.0                    NaN  26357   \n",
      "4              Manual  1720031.0                    NaN  26357   \n",
      "\n",
      "            Mails tomadores/asegurados       Documentos tomadores/asegurados  \n",
      "0   Particular estacionruta8@gmail.com                 CUIT/CUIL 30708037970  \n",
      "1  Particular PABLOMULDOWNEY@GMAIL.COM  CUIT/CUIL 27102808121 / DNI 10280812  \n",
      "2  Particular PABLOMULDOWNEY@GMAIL.COM  CUIT/CUIL 27102808121 / DNI 10280812  \n",
      "3     Particular zmiackaj@yahoo.com.ar  CUIT/CUIL 20270626360 / DNI 27062636  \n",
      "4  Particular PABLOMULDOWNEY@GMAIL.COM  CUIT/CUIL 27102808121 / DNI 10280812  \n",
      "\n",
      "[5 rows x 29 columns]\n",
      "<class 'pandas.core.frame.DataFrame'>\n",
      "RangeIndex: 5802 entries, 0 to 5801\n",
      "Data columns (total 29 columns):\n",
      " #   Column                           Non-Null Count  Dtype         \n",
      "---  ------                           --------------  -----         \n",
      " 0   Numero                           5802 non-null   int64         \n",
      " 1   Estado                           5802 non-null   object        \n",
      " 2   Id referencia                    5802 non-null   object        \n",
      " 3   Tomador/es                       5802 non-null   object        \n",
      " 4   Asegurado/s                      5802 non-null   object        \n",
      " 5   Compañia                         5802 non-null   object        \n",
      " 6   Ramo                             5802 non-null   object        \n",
      " 7   Linea de Negocio                 5802 non-null   object        \n",
      " 8   Bien asegurado                   5610 non-null   object        \n",
      " 9   Moneda                           5802 non-null   object        \n",
      " 10  Prima                            5758 non-null   float64       \n",
      " 11  Prima Comisionable               5758 non-null   float64       \n",
      " 12  Premio                           5758 non-null   float64       \n",
      " 13  Comision Prima PAS %             5802 non-null   float64       \n",
      " 14  Importe bruto Prima PAS          5802 non-null   float64       \n",
      " 15  Comision Premio PAS %            5802 non-null   float64       \n",
      " 16  Importe bruto Premio PAS         5802 non-null   float64       \n",
      " 17  Tipo pago                        5477 non-null   object        \n",
      " 18  Suma asegurada                   5645 non-null   float64       \n",
      " 19  Cl. Ajuste                       1512 non-null   float64       \n",
      " 20  Fecha emision                    5382 non-null   datetime64[ns]\n",
      " 21  Vigencia desde                   5463 non-null   datetime64[ns]\n",
      " 22  Vigencia Hasta                   5732 non-null   datetime64[ns]\n",
      " 23  Tipo de renovacion               5802 non-null   object        \n",
      " 24  Renovo a                         2404 non-null   float64       \n",
      " 25  Tipo de refacturacion            1773 non-null   object        \n",
      " 26  Codigo                           5802 non-null   object        \n",
      " 27  Mails tomadores/asegurados       5383 non-null   object        \n",
      " 28  Documentos tomadores/asegurados  5802 non-null   object        \n",
      "dtypes: datetime64[ns](3), float64(10), int64(1), object(15)\n",
      "memory usage: 1.3+ MB\n",
      "None\n",
      "Index(['Numero', 'Estado', 'Id referencia', 'Tomador/es', 'Asegurado/s',\n",
      "       'Compañia', 'Ramo', 'Linea de Negocio', 'Bien asegurado', 'Moneda',\n",
      "       'Prima', 'Prima Comisionable', 'Premio', 'Comision Prima PAS %',\n",
      "       'Importe bruto Prima PAS', 'Comision Premio PAS %',\n",
      "       'Importe bruto Premio PAS', 'Tipo pago', 'Suma asegurada', 'Cl. Ajuste',\n",
      "       'Fecha emision', 'Vigencia desde', 'Vigencia Hasta',\n",
      "       'Tipo de renovacion', 'Renovo a', 'Tipo de refacturacion', 'Codigo',\n",
      "       'Mails tomadores/asegurados', 'Documentos tomadores/asegurados'],\n",
      "      dtype='object')\n"
     ]
    }
   ],
   "source": [
    "import pandas as pd\n",
    "\n",
    "# Cargar el archivo Excel\n",
    "df = pd.read_excel('Polizas.xlsx', sheet_name='Polizas')\n",
    "\n",
    "# Ver las primeras filas del archivo\n",
    "print(df.head())\n",
    "\n",
    "# Ver la información general del DataFrame\n",
    "print(df.info())\n",
    "\n",
    "# Ver los nombres de las columnas\n",
    "print(df.columns)\n"
   ]
  },
  {
   "cell_type": "code",
   "execution_count": 36,
   "metadata": {},
   "outputs": [
    {
     "name": "stdout",
     "output_type": "stream",
     "text": [
      "Ramo\n",
      "Automotores                                        2089\n",
      "Vida individual                                    1588\n",
      "Accidentes Personales                              1410\n",
      "Motovehículos                                       164\n",
      "Combinado Familiar                                  140\n",
      "Seguro de Salud                                     127\n",
      "Incendio                                             66\n",
      "Responsabilidad Civil                                59\n",
      "Robo y Riesgos Similares                             29\n",
      "ART                                                  26\n",
      "Riesgos Varios                                       24\n",
      "Vida Obligatorio (Decreto 1567/74)                   23\n",
      "Caución                                              15\n",
      "Integral de comercio                                 13\n",
      "Accidentes a Pasajeros                               12\n",
      "Técnico                                               5\n",
      "Integral de consorcio                                 3\n",
      "Vida – Sin constitución de reservas Matemáticas       3\n",
      "Combinados e Integrales                               2\n",
      "Cascos y Maquinarias del Buque                        2\n",
      "Transportes                                           1\n",
      "Vida colectivo                                        1\n",
      "Name: count, dtype: int64\n"
     ]
    }
   ],
   "source": [
    "# Contar cuántas veces aparece cada valor en la columna 'Ramo'\n",
    "conteo_ramos = df['Ramo'].value_counts()\n",
    "\n",
    "# Mostrar el resultado\n",
    "print(conteo_ramos)\n"
   ]
  },
  {
   "cell_type": "code",
   "execution_count": 38,
   "metadata": {},
   "outputs": [
    {
     "name": "stdout",
     "output_type": "stream",
     "text": [
      "4380                          Holtz Jesus\n",
      "4381                    Macri Silvia Ines\n",
      "4382                 Palma Matias Nicolas\n",
      "4383                    Hein Teresa Noemi\n",
      "4384       Ffh Asesores De Seguros S.R.L.\n",
      "4385                 Esteban Gaspar Angel\n",
      "4386                   Sanchez Maria Rosa\n",
      "4387                   Sanchez Maria Rosa\n",
      "4388                    Juan Jose Juricka\n",
      "4640                     Gentile Salvador\n",
      "5447                            Ronai S A\n",
      "5547    Lab Net Bioquimica Acreditada Srl\n",
      "5731    Lab Net Bioquimica Acreditada Srl\n",
      "Name: Asegurado/s, dtype: object\n"
     ]
    }
   ],
   "source": [
    "# Filtrar las filas donde el 'Ramo' sea 'Integral de comercio' y mostrar la columna 'Asegurado/s'\n",
    "integral_comercio_asegurados = df[df['Ramo'] == 'Integral de comercio']['Asegurado/s']\n",
    "\n",
    "# Mostrar los asegurados correspondientes\n",
    "print(integral_comercio_asegurados)\n"
   ]
  },
  {
   "cell_type": "code",
   "execution_count": 39,
   "metadata": {},
   "outputs": [
    {
     "name": "stdout",
     "output_type": "stream",
     "text": [
      "4609                            Guzman Vanina Erika\n",
      "4610                  Cogliano Eduardo Jose Antonio\n",
      "4611                                   Wingsvestors\n",
      "4612                            Los Jagüeles Del 36\n",
      "4613                                     Dai Dejiao\n",
      "4614    Limpieza Y Construcciones Argentinas S.R.L.\n",
      "4615                            Ponce Jorge Ricardo\n",
      "4616    Linajes Sociedad De La Seccion Iv De La Lgs\n",
      "4617                 Ffh Asesores De Seguros S.R.L.\n",
      "4618                      Villalba Raquel Alejandra\n",
      "4619                                      Ferpe Sas\n",
      "4620                 Henry Colomer Argentina S.R.L.\n",
      "4621                                Cambioforex Sas\n",
      "4622                       Cambio San Isidro S.A.S.\n",
      "4623                        Cambio San Pedro S.A.S.\n",
      "4624                              Chen Shuangshuang\n",
      "4625           Hosteria El Retorno Sociedad Anonima\n",
      "4626                                    Chen Jinrui\n",
      "4627                                      Su Suping\n",
      "4628                       Rodriguez Ariel Fernando\n",
      "4629                                    Wu Jianping\n",
      "4630                                   Shi Qingqing\n",
      "4631                              Kersner Sebastian\n",
      "4632                            Codosea Maria Paula\n",
      "4633                                     Borzak Srl\n",
      "4634                         Fiocca Gabriela Susana\n",
      "Name: Asegurado/s, dtype: object\n"
     ]
    }
   ],
   "source": [
    "# Filtrar las filas donde el 'Ramo' sea 'ART' y mostrar la columna 'Asegurado/s'\n",
    "art_asegurados = df[df['Ramo'] == 'ART']['Asegurado/s']\n",
    "\n",
    "# Mostrar los asegurados correspondientes\n",
    "print(art_asegurados)\n"
   ]
  }
 ],
 "metadata": {
  "kernelspec": {
   "display_name": "base",
   "language": "python",
   "name": "python3"
  },
  "language_info": {
   "codemirror_mode": {
    "name": "ipython",
    "version": 3
   },
   "file_extension": ".py",
   "mimetype": "text/x-python",
   "name": "python",
   "nbconvert_exporter": "python",
   "pygments_lexer": "ipython3",
   "version": "3.11.7"
  }
 },
 "nbformat": 4,
 "nbformat_minor": 2
}
