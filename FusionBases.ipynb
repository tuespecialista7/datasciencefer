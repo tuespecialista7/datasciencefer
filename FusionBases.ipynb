{
 "cells": [
  {
   "cell_type": "code",
   "execution_count": 1,
   "metadata": {},
   "outputs": [],
   "source": [
    "import pandas as pd\n",
    "import numpy as np\n",
    "import matplotlib as mpl\n",
    "import matplotlib.pyplot as plt\n",
    "import seaborn as sns\n",
    "# Importo libreria para trabajar con dates \n",
    "from datetime import timedelta\n",
    "# Libreria para estimar regresión\n",
    "import statsmodels.formula.api as sm\n",
    "# Libreria para normalizar\n",
    "from sklearn.preprocessing import StandardScaler"
   ]
  },
  {
   "cell_type": "code",
   "execution_count": 4,
   "metadata": {},
   "outputs": [
    {
     "name": "stdout",
     "output_type": "stream",
     "text": [
      "La unión de los archivos se ha completado y se ha guardado en 'resultado.xlsx'.\n"
     ]
    }
   ],
   "source": [
    "import pandas as pd\n",
    "\n",
    "# Leer los archivos Excel\n",
    "c1 = pd.read_excel('c1.xlsx', sheet_name='1')\n",
    "c2 = pd.read_excel('c2.xlsx', sheet_name='2')\n",
    "\n",
    "# Crear la columna 'Key' en ambos DataFrames\n",
    "def create_key_column(df, column_name):\n",
    "    df[column_name] = df[column_name].astype(str).str.strip()\n",
    "    df['Key'] = df[column_name].str.lower().str.split()\n",
    "    df['Key'] = df['Key'].apply(lambda x: sorted(x) if isinstance(x, list) else x)\n",
    "    df['Key'] = df['Key'].apply(lambda x: ' '.join(x) if isinstance(x, list) else x)\n",
    "    return df\n",
    "\n",
    "c1 = create_key_column(c1, 'Asegurado')\n",
    "c2 = create_key_column(c2, 'Nombre')\n",
    "\n",
    "# Realizar la unión de los DataFrames\n",
    "merged_df = pd.merge(c1, c2, on='Key', how='left', suffixes=('_c1', '_c2'))\n",
    "\n",
    "# Eliminar filas donde no haya coincidencia en c2\n",
    "merged_df = merged_df[~merged_df['Nombre'].isna()]\n",
    "\n",
    "# Guardar el resultado en un nuevo archivo Excel\n",
    "merged_df.to_excel('resultado.xlsx', index=False)\n",
    "\n",
    "print(\"La unión de los archivos se ha completado y se ha guardado en 'resultado.xlsx'.\")\n"
   ]
  },
  {
   "cell_type": "code",
   "execution_count": 5,
   "metadata": {},
   "outputs": [
    {
     "name": "stdout",
     "output_type": "stream",
     "text": [
      "La unión de los archivos se ha completado y se ha guardado en 'resultado.xlsx'.\n"
     ]
    }
   ],
   "source": [
    "# Guardar el resultado en un nuevo archivo Excel\n",
    "merged_df.to_excel('resultado.xlsx', index=False)\n",
    "\n",
    "print(\"La unión de los archivos se ha completado y se ha guardado en 'resultado.xlsx'.\")\n"
   ]
  },
  {
   "cell_type": "code",
   "execution_count": 6,
   "metadata": {},
   "outputs": [
    {
     "name": "stdout",
     "output_type": "stream",
     "text": [
      "Columnas después de eliminar:\n",
      "Index(['Asegurado', 'Fecha ingreso', 'Mes-ano', 'Ingreso', 'Origen Ingreso',\n",
      "       'Ramo', 'Póliza', 'Endoso', 'Provincia', 'Moneda', 'Prima', 'Premio',\n",
      "       'Comisión normal', 'Comisión cobranza', 'Comisión fomento',\n",
      "       'Comisión otras', 'Comisión total', 'Cobrador', 'Tipo Persona', 'CUIT',\n",
      "       'DNI', 'Nacimiento', 'Direcciones', 'Telefonos', 'Mails', 'Ramos',\n",
      "       'Productor_c2', 'Creacion', 'id'],\n",
      "      dtype='object')\n"
     ]
    }
   ],
   "source": [
    "# Lista de nombres de las columnas a eliminar porque no me sirven\n",
    "columnas_a_eliminar = [\n",
    "    'Cuit',\n",
    "    'Productor_c1',\n",
    "    'Nombre Productor',\n",
    "    'Certificado',\n",
    "    'Fecha Emisión Endoso',\n",
    "    'Fecha Vigencia Endoso',\n",
    "    'Rol',\n",
    "    'Productor póliza',\n",
    "    'Remesa Self',\n",
    "    'Remesa productor',\n",
    "    'Key',\n",
    "    'Nombre',\n",
    "    'Empleados',\n",
    "    'Dateros',\n",
    "    'Grupo'\n",
    "]\n",
    "\n",
    "# Eliminar las columnas del DataFrame\n",
    "merged_df.drop(columns=columnas_a_eliminar, inplace=True)\n",
    "\n",
    "# Verificar que las columnas se han eliminado\n",
    "print(\"Columnas después de eliminar:\")\n",
    "print(merged_df.columns)\n"
   ]
  },
  {
   "cell_type": "code",
   "execution_count": 7,
   "metadata": {},
   "outputs": [
    {
     "name": "stdout",
     "output_type": "stream",
     "text": [
      "El nuevo archivo Excel 'resultado_final.xlsx' ha sido generado exitosamente.\n"
     ]
    }
   ],
   "source": [
    "# Guardar el DataFrame resultante en un nuevo archivo Excel\n",
    "merged_df.to_excel('resultado_final.xlsx', index=False)\n",
    "\n",
    "print(\"El nuevo archivo Excel 'resultado_final.xlsx' ha sido generado exitosamente.\")\n"
   ]
  },
  {
   "cell_type": "code",
   "execution_count": 9,
   "metadata": {},
   "outputs": [],
   "source": [
    "# Recordemos las columnas relevantes y sus números:\n",
    "\n",
    "# 19. Tipo Persona\n",
    "# 20. CUIT\n",
    "# 30. sexo (nueva columna que vamos a crear)\n",
    "\n",
    "# Asegurarnos de que las columnas 'Tipo Persona' y 'CUIT' sean de tipo string y eliminar espacios adicionales\n",
    "merged_df['Tipo Persona'] = merged_df['Tipo Persona'].astype(str).str.strip().str.lower()  # Columna 19\n",
    "merged_df['CUIT'] = merged_df['CUIT'].astype(str).str.strip()  # Columna 20\n",
    "\n",
    "# Inicializar la columna 'sexo' (columna 30) con un valor por defecto\n",
    "merged_df['sexo'] = 'Desconocido'  # Columna 30\n",
    "\n",
    "# Aplicar las condiciones para asignar los valores correspondientes\n",
    "\n",
    "# Condición 1: Si 'Tipo Persona' (columna 19) es 'jurídica' o 'juridica', asignar 'empresa' en 'sexo' (columna 30)\n",
    "cond_empresa = merged_df['Tipo Persona'].isin(['jurídica', 'juridica'])\n",
    "merged_df.loc[cond_empresa, 'sexo'] = 'empresa'\n",
    "\n",
    "# Condición 2: Si 'Tipo Persona' no es 'empresa' y CUIT (columna 20) comienza con '20', asignar 'Masculino' en 'sexo'\n",
    "cond_masculino = (~cond_empresa) & (merged_df['CUIT'].str.startswith('20'))\n",
    "merged_df.loc[cond_masculino, 'sexo'] = 'Masculino'\n",
    "\n",
    "# Condición 3: Si 'Tipo Persona' no es 'empresa' y CUIT (columna 20) comienza con '23' o '27', asignar 'Femenino' en 'sexo'\n",
    "cond_femenino = (~cond_empresa) & (merged_df['CUIT'].str.startswith(('23', '27')))\n",
    "merged_df.loc[cond_femenino, 'sexo'] = 'Femenino'\n"
   ]
  },
  {
   "cell_type": "code",
   "execution_count": 13,
   "metadata": {},
   "outputs": [
    {
     "name": "stdout",
     "output_type": "stream",
     "text": [
      "El nuevo archivo Excel 'resultado_final.xlsx' ha sido generado exitosamente.\n"
     ]
    }
   ],
   "source": [
    "# Guardar el DataFrame resultante en un nuevo archivo Excel\n",
    "merged_df.to_excel('resultado_final.xlsx', index=False)\n",
    "\n",
    "print(\"El nuevo archivo Excel 'resultado_final.xlsx' ha sido generado exitosamente.\")\n"
   ]
  },
  {
   "cell_type": "code",
   "execution_count": 14,
   "metadata": {},
   "outputs": [
    {
     "name": "stdout",
     "output_type": "stream",
     "text": [
      "Cantidad en cada categoría de la columna 'sexo':\n",
      "sexo\n",
      "Masculino      64934\n",
      "Femenino       43324\n",
      "Desconocido     4668\n",
      "empresa         1333\n",
      "Name: count, dtype: int64\n"
     ]
    }
   ],
   "source": [
    "# Obtener la cantidad en cada categoría de la columna 'sexo'\n",
    "conteo_sexo = merged_df['sexo'].value_counts()\n",
    "\n",
    "# Mostrar el resultado\n",
    "print(\"Cantidad en cada categoría de la columna 'sexo':\")\n",
    "print(conteo_sexo)\n"
   ]
  },
  {
   "cell_type": "code",
   "execution_count": 15,
   "metadata": {},
   "outputs": [
    {
     "name": "stdout",
     "output_type": "stream",
     "text": [
      "Cantidad en cada categoría de la columna 'sexo' antes de la redistribución:\n",
      "sexo\n",
      "Masculino      64934\n",
      "Femenino       43324\n",
      "Desconocido     4668\n",
      "empresa         1333\n",
      "Name: count, dtype: int64\n",
      "Proporción de 'Masculino': 0.5998078663932458\n",
      "Proporción de 'Femenino': 0.4001921336067542\n",
      "Nuevo conteo en cada categoría de la columna 'sexo' después de la redistribución:\n",
      "sexo\n",
      "Masculino    67711\n",
      "Femenino     45215\n",
      "empresa       1333\n",
      "Name: count, dtype: int64\n",
      "El nuevo archivo Excel 'resultado_final.xlsx' ha sido generado exitosamente.\n"
     ]
    }
   ],
   "source": [
    "# ... (código anterior para crear la columna 'sexo') ...\n",
    "\n",
    "# Obtener la cantidad en cada categoría de la columna 'sexo' antes de la redistribución\n",
    "conteo_sexo = merged_df['sexo'].value_counts()\n",
    "print(\"Cantidad en cada categoría de la columna 'sexo' antes de la redistribución:\")\n",
    "print(conteo_sexo)\n",
    "\n",
    "# Importar numpy\n",
    "import numpy as np\n",
    "\n",
    "# Paso 1: Obtener la distribución actual de 'Masculino' y 'Femenino'\n",
    "df_sexo_conocido = merged_df[merged_df['sexo'].isin(['Masculino', 'Femenino'])]\n",
    "total_sexo_conocido = len(df_sexo_conocido)\n",
    "conteo_sexo_conocido = df_sexo_conocido['sexo'].value_counts()\n",
    "\n",
    "proporcion_masculino = conteo_sexo_conocido['Masculino'] / total_sexo_conocido\n",
    "proporcion_femenino = conteo_sexo_conocido['Femenino'] / total_sexo_conocido\n",
    "\n",
    "print(\"Proporción de 'Masculino':\", proporcion_masculino)\n",
    "print(\"Proporción de 'Femenino':\", proporcion_femenino)\n",
    "\n",
    "# Verificar que las proporciones sumen 1\n",
    "suma_proporciones = proporcion_masculino + proporcion_femenino\n",
    "if not np.isclose(suma_proporciones, 1.0):\n",
    "    # Ajustar las proporciones para que sumen 1\n",
    "    proporcion_masculino /= suma_proporciones\n",
    "    proporcion_femenino /= suma_proporciones\n",
    "\n",
    "# Paso 2: Redistribuir los 'Desconocido'\n",
    "mascara_desconocido = merged_df['sexo'] == 'Desconocido'\n",
    "num_desconocido = mascara_desconocido.sum()\n",
    "\n",
    "# Generar una asignación aleatoria según las proporciones\n",
    "asignacion_aleatoria = np.random.choice(\n",
    "    ['Masculino', 'Femenino'],\n",
    "    size=num_desconocido,\n",
    "    p=[proporcion_masculino, proporcion_femenino]\n",
    ")\n",
    "\n",
    "# Asignar los nuevos valores a la columna 'sexo'\n",
    "merged_df.loc[mascara_desconocido, 'sexo'] = asignacion_aleatoria\n",
    "\n",
    "# Obtener el nuevo conteo de 'sexo'\n",
    "nuevo_conteo_sexo = merged_df['sexo'].value_counts()\n",
    "print(\"Nuevo conteo en cada categoría de la columna 'sexo' después de la redistribución:\")\n",
    "print(nuevo_conteo_sexo)\n",
    "\n",
    "# Paso final: Guardar el DataFrame resultante en un nuevo archivo Excel\n",
    "merged_df.to_excel('resultado_final.xlsx', index=False)\n",
    "\n",
    "print(\"El nuevo archivo Excel 'resultado_final.xlsx' ha sido generado exitosamente.\")\n"
   ]
  },
  {
   "cell_type": "code",
   "execution_count": 16,
   "metadata": {},
   "outputs": [
    {
     "name": "stdout",
     "output_type": "stream",
     "text": [
      "El nuevo archivo Excel 'Coder2.xlsx' ha sido generado exitosamente.\n"
     ]
    }
   ],
   "source": [
    "# Paso final: Guardar el DataFrame resultante en un nuevo archivo Excel llamado 'Coder2.xlsx'\n",
    "merged_df.to_excel('Coder2.xlsx', index=False)\n",
    "\n",
    "print(\"El nuevo archivo Excel 'Coder2.xlsx' ha sido generado exitosamente.\")\n"
   ]
  }
 ],
 "metadata": {
  "kernelspec": {
   "display_name": "base",
   "language": "python",
   "name": "python3"
  },
  "language_info": {
   "codemirror_mode": {
    "name": "ipython",
    "version": 3
   },
   "file_extension": ".py",
   "mimetype": "text/x-python",
   "name": "python",
   "nbconvert_exporter": "python",
   "pygments_lexer": "ipython3",
   "version": "3.11.7"
  }
 },
 "nbformat": 4,
 "nbformat_minor": 2
}
